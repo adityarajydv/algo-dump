{
 "cells": [
  {
   "cell_type": "code",
   "execution_count": 24,
   "metadata": {},
   "outputs": [
    {
     "name": "stdout",
     "output_type": "stream",
     "text": [
      "f\n"
     ]
    }
   ],
   "source": [
    "print(\"f\")"
   ]
  },
  {
   "cell_type": "code",
   "execution_count": 25,
   "metadata": {},
   "outputs": [],
   "source": [
    "import os"
   ]
  },
  {
   "cell_type": "code",
   "execution_count": 26,
   "metadata": {},
   "outputs": [
    {
     "ename": "SyntaxError",
     "evalue": "invalid syntax (3345595536.py, line 2)",
     "output_type": "error",
     "traceback": [
      "\u001b[0;36m  Cell \u001b[0;32mIn[26], line 2\u001b[0;36m\u001b[0m\n\u001b[0;31m    and =2\u001b[0m\n\u001b[0m    ^\u001b[0m\n\u001b[0;31mSyntaxError\u001b[0m\u001b[0;31m:\u001b[0m invalid syntax\n"
     ]
    }
   ],
   "source": [
    "# reserve words\n",
    "and =2\n"
   ]
  },
  {
   "cell_type": "code",
   "execution_count": null,
   "metadata": {},
   "outputs": [
    {
     "name": "stdout",
     "output_type": "stream",
     "text": [
      "<class 'int'> <class 'int'> <class 'int'> <class 'str'> <class 'float'> <class 'bool'>\n",
      "False\n",
      "3 <class 'int'>\n"
     ]
    }
   ],
   "source": [
    "a1=1\n",
    "a2:int =2\n",
    "a3:str=3\n",
    "a4:str=\"3\"\n",
    "a5=2.2\n",
    "a6=True\n",
    "print(type(a1),type(a2),type(a3),type(a4),type(a5),type(a6))\n",
    "print(a1>a2)\n",
    "print(int(a4),type(int(a4)))"
   ]
  },
  {
   "cell_type": "code",
   "execution_count": 33,
   "metadata": {},
   "outputs": [
    {
     "name": "stdout",
     "output_type": "stream",
     "text": [
      "Name is sachin and age is 25\n",
      "{'name': 'sachin', 'age': 25}\n",
      "WITHOUT SELF RAHUL 26\n",
      "SELF RAHUL 26\n",
      "Name RAHUL and age 26\n",
      "{'n': 'RAHUL', 'a': 26}\n",
      "{'n': 'RAHUL', 'a': 26, 'n1': 'something'}\n"
     ]
    },
    {
     "ename": "AttributeError",
     "evalue": "'BB' object has no attribute 'a1'",
     "output_type": "error",
     "traceback": [
      "\u001b[0;31m---------------------------------------------------------------------------\u001b[0m",
      "\u001b[0;31mAttributeError\u001b[0m                            Traceback (most recent call last)",
      "Cell \u001b[0;32mIn[33], line 29\u001b[0m\n\u001b[1;32m     27\u001b[0m b\u001b[38;5;241m.\u001b[39mn1\u001b[38;5;241m=\u001b[39m\u001b[38;5;124m\"\u001b[39m\u001b[38;5;124msomething\u001b[39m\u001b[38;5;124m\"\u001b[39m\n\u001b[1;32m     28\u001b[0m \u001b[38;5;28mprint\u001b[39m(b\u001b[38;5;241m.\u001b[39m\u001b[38;5;18m__dict__\u001b[39m)\n\u001b[0;32m---> 29\u001b[0m \u001b[43mb\u001b[49m\u001b[38;5;241;43m.\u001b[39;49m\u001b[43ma1\u001b[49m\n",
      "\u001b[0;31mAttributeError\u001b[0m: 'BB' object has no attribute 'a1'"
     ]
    }
   ],
   "source": [
    "class AA:\n",
    "    def __init__(self, name, age):\n",
    "        self.name = name\n",
    "        self.age = age\n",
    "\n",
    "    def display(self):\n",
    "        print(f\"Name is {self.name} and age is {self.age}\")\n",
    "\n",
    "a = AA(\"sachin\", 25)\n",
    "a.display()\n",
    "print(a.__dict__)\n",
    "\n",
    "class BB:\n",
    "    def __init__(self, name, age):\n",
    "        self.n = name\n",
    "        self.a = age\n",
    "        aa1=\"ss\"\n",
    "        print(f\"WITHOUT SELF {name} {age}\")  \n",
    "        print(f\"SELF {self.n} {self.a}\")  \n",
    "\n",
    "    def display(self):\n",
    "        print(f\"Name {self.n} and age {self.a}\")\n",
    "\n",
    "b = BB(\"RAHUL\", 26)\n",
    "b.display()\n",
    "print(b.__dict__)\n",
    "b.n1=\"something\"\n",
    "print(b.__dict__)\n",
    "b.a1\n"
   ]
  },
  {
   "cell_type": "markdown",
   "metadata": {},
   "source": [
    "Self refers to the instance of class \n",
    "\n",
    "__init__( ) is a special method which is first run as soon as the object is created. It is also known as constructor.\n",
    "It takes self argument and can also take further arguments"
   ]
  },
  {
   "cell_type": "markdown",
   "metadata": {},
   "source": [
    "In Summary:\n",
    "\n",
    "- Classes are blueprints (AA, BB).\n",
    "- Instances are objects created from blueprints (a, b).\n",
    "- __init__ is the constructor, run automatically on instance creation to initialize it.\n",
    "- self refers to the specific instance being worked on, allowing access to its unique attributes (self.name, self.n).\n",
    "- Variables assigned using self. (like self.n = ...) become instance attributes that belong to the object and persist.\n",
    "- Variables assigned without self. inside a method (like name = \"NO-NAME\") are local variables that exist only during that method's execution and do not affect the instance's attributes."
   ]
  },
  {
   "cell_type": "markdown",
   "metadata": {},
   "source": [
    "#Inheritance"
   ]
  },
  {
   "cell_type": "markdown",
   "metadata": {},
   "source": [
    "There are three types of inheritance."
   ]
  },
  {
   "cell_type": "code",
   "execution_count": 27,
   "metadata": {},
   "outputs": [
    {
     "name": "stdout",
     "output_type": "stream",
     "text": [
      "Google\n",
      "This is an Employee\n",
      "Google\n",
      "The language of the programmer is python\n"
     ]
    }
   ],
   "source": [
    "\"\"\"Single inheritance occur when child class inherits only one Parent class.\"\"\"\n",
    "\n",
    "# Let's make a parent class Employee\n",
    "class Employee:\n",
    "    company=\"Google\" \n",
    "    def get_Details(self): \n",
    "        print(\"This is an Employee\")\n",
    "\n",
    "sam=Employee()\n",
    "print(sam.company)\n",
    "sam.get_Details()\n",
    "\n",
    "\n",
    "# now let's make a child class programmer\n",
    "class programmer(Employee):\n",
    "    language=\"python\"\n",
    "    \n",
    "    def get_Details(self): #let's overwrite the details\n",
    "        print(f\"The language of the programmer is {self.language}\")\n",
    "        \n",
    "    \n",
    "jhon=programmer()\n",
    "print(jhon.company)\n",
    "jhon.get_Details()"
   ]
  },
  {
   "cell_type": "code",
   "execution_count": 28,
   "metadata": {},
   "outputs": [
    {
     "name": "stdout",
     "output_type": "stream",
     "text": [
      "level of the employee is 1\n",
      "Google\n"
     ]
    },
    {
     "data": {
      "text/plain": [
       "'Ther Reason it choose Google over Fiver is becoz when we made the User class, \\nfirst we take the Employee class than Freelancer. \\nso it give higher priority to one that we take first.'"
      ]
     },
     "execution_count": 28,
     "metadata": {},
     "output_type": "execute_result"
    }
   ],
   "source": [
    "\"\"\"Multiple inheritance occur when child class inherits from more than one Parent class\"\"\"\n",
    "class Employee:\n",
    "    company=\"Google\"\n",
    "    ecode=200\n",
    "    \n",
    "class Freelancer:\n",
    "    company=\"Fiver\"\n",
    "    level=1\n",
    "    def get_details(self):\n",
    "        print(f\"level of the employee is {self.level}\")\n",
    "        \n",
    "class User(Employee,Freelancer):\n",
    "    pass\n",
    "\n",
    "sam=User()\n",
    "\n",
    "sam.get_details()\n",
    "\n",
    "\"\"\"Now what if we want to print the company what will it print Google or Fiver. let's check out\"\"\"\n",
    "print(sam.company)\n",
    "\n",
    "\"\"\"Ther Reason it choose Google over Fiver is becoz when we made the User class, \n",
    "first we take the Employee class than Freelancer. \n",
    "so it give higher priority to one that we take first.\"\"\"\n",
    "\n",
    "\n",
    "\n"
   ]
  },
  {
   "cell_type": "code",
   "execution_count": 29,
   "metadata": {},
   "outputs": [
    {
     "name": "stdout",
     "output_type": "stream",
     "text": [
      "delhi\n",
      "employee comapny  is Google\n"
     ]
    },
    {
     "data": {
      "text/plain": [
       "'It will take the details of the nearest class'"
      ]
     },
     "execution_count": 29,
     "metadata": {},
     "output_type": "execute_result"
    }
   ],
   "source": [
    "\"\"\"When a child class becomes a parent of another child class\"\"\"\n",
    "\n",
    "# parent class\n",
    "class Person:\n",
    "    city=\"delhi\"\n",
    "    def get_details(self):\n",
    "        print(f\"person lives in {self.city}\")\n",
    "        \n",
    "# child class\n",
    "class Employee(Person):\n",
    "    company=\"Google\"\n",
    "    def get_details(self):\n",
    "        print(f\"employee comapny  is {self.company}\")\n",
    "        \n",
    "# 2nd child class:\n",
    "class Programmer(Employee):\n",
    "    language=\"python\"\n",
    "    pass\n",
    "        \n",
    "\n",
    "\n",
    "sam=Person()\n",
    "emp=Employee()\n",
    "prog=Programmer()\n",
    "\n",
    "print(prog.city)\n",
    "\n",
    "#Now what if we want to print the get_details method. \n",
    "prog.get_details()\n",
    "\n",
    "\"\"\"It will take the details of the nearest class\"\"\""
   ]
  },
  {
   "cell_type": "code",
   "execution_count": 43,
   "metadata": {},
   "outputs": [
    {
     "name": "stdout",
     "output_type": "stream",
     "text": [
      "{'__module__': '__main__', 'a1': 2, '__init__': <function A1.__init__ at 0x109220040>, '__dict__': <attribute '__dict__' of 'A1' objects>, '__weakref__': <attribute '__weakref__' of 'A1' objects>, '__doc__': None}\n",
      "{'a2': 3}\n",
      "2\n",
      "3\n",
      " ///// \n",
      "{'__module__': '__main__', 'a2': 2, '__init__': <function A2.__init__ at 0x1091db430>, '__dict__': <attribute '__dict__' of 'A2' objects>, '__weakref__': <attribute '__weakref__' of 'A2' objects>, '__doc__': None}\n",
      "{'a21': 3}\n",
      "2\n",
      "3\n"
     ]
    },
    {
     "ename": "TypeError",
     "evalue": "__init__() missing 1 required positional argument: 'name'",
     "output_type": "error",
     "traceback": [
      "\u001b[0;31m---------------------------------------------------------------------------\u001b[0m",
      "\u001b[0;31mTypeError\u001b[0m                                 Traceback (most recent call last)",
      "Cell \u001b[0;32mIn[43], line 23\u001b[0m\n\u001b[1;32m     21\u001b[0m \u001b[38;5;28mprint\u001b[39m(A2\u001b[38;5;241m.\u001b[39ma2)\n\u001b[1;32m     22\u001b[0m \u001b[38;5;28mprint\u001b[39m(aa\u001b[38;5;241m.\u001b[39ma21)\n\u001b[0;32m---> 23\u001b[0m aa\u001b[38;5;241m=\u001b[39m\u001b[43mA2\u001b[49m\u001b[43m(\u001b[49m\u001b[43m)\u001b[49m\n",
      "\u001b[0;31mTypeError\u001b[0m: __init__() missing 1 required positional argument: 'name'"
     ]
    }
   ],
   "source": [
    "class A1:\n",
    "    a1=2\n",
    "    def __init__(self):\n",
    "        self.a2=3\n",
    "\n",
    "print(A1.__dict__)\n",
    "a=A1()\n",
    "print(a.__dict__)\n",
    "print(A1.a1)\n",
    "print(a.a2)\n",
    "\n",
    "print(\" ///// \")\n",
    "class A2:\n",
    "    a2=2\n",
    "    def __init__(self,name):\n",
    "        self.a21=3\n",
    "\n",
    "print(A2.__dict__)\n",
    "aa=A2(\"nn\")\n",
    "print(aa.__dict__)\n",
    "print(A2.a2)\n",
    "print(aa.a21)\n",
    "aa=A2()"
   ]
  },
  {
   "cell_type": "code",
   "execution_count": 48,
   "metadata": {},
   "outputs": [
    {
     "name": "stdout",
     "output_type": "stream",
     "text": [
      "1\n",
      "2\n",
      "3\n",
      "4\n",
      "5\n",
      "0 1\n",
      "1 2\n",
      "2 3\n",
      "3 4\n",
      "4 5\n"
     ]
    }
   ],
   "source": [
    "list1 = [1,2,3,4,5]\n",
    "for i in list1:\n",
    "    print(i)\n",
    "\n",
    "for counter,item in enumerate(list1):\n",
    "    print(counter,item)"
   ]
  },
  {
   "cell_type": "code",
   "execution_count": 49,
   "metadata": {},
   "outputs": [
    {
     "data": {
      "text/plain": [
       "9"
      ]
     },
     "execution_count": 49,
     "metadata": {},
     "output_type": "execute_result"
    }
   ],
   "source": [
    "summ = lambda a,b,c: a+b+c\n",
    "summ(2,3,4)"
   ]
  },
  {
   "cell_type": "code",
   "execution_count": 54,
   "metadata": {},
   "outputs": [
    {
     "name": "stdout",
     "output_type": "stream",
     "text": [
      "Scores with bonus: [80, 87, 95, 73, 100, 83]\n",
      "Passing scores: [80, 87, 95, 100, 83]\n",
      "Average of passing scores: 89.0\n",
      "Original scores: [75, 82, 90, 68, 95, 78]\n",
      "Type of 'scores': <class 'list'>\n"
     ]
    }
   ],
   "source": [
    "from functools import reduce\n",
    "\n",
    "scores = [75, 82, 90, 68, 95, 78]\n",
    "\n",
    "add_bonus = lambda score: score + 5\n",
    "scores_with_bonus = list(map(add_bonus, scores))\n",
    "print(f\"Scores with bonus: {scores_with_bonus}\")\n",
    "\n",
    "passing_scores = list(filter(lambda score: score >= 80, scores_with_bonus))\n",
    "print(f\"Passing scores: {passing_scores}\")\n",
    "\n",
    "average_passing_score = reduce(lambda a, b: a + b, passing_scores) / len(passing_scores)\n",
    "print(f\"Average of passing scores: {average_passing_score}\")\n",
    "\n",
    "print(f\"Original scores: {scores}\")\n",
    "print(f\"Type of 'scores': {type(scores)}\")"
   ]
  }
 ],
 "metadata": {
  "kernelspec": {
   "display_name": "Python 3",
   "language": "python",
   "name": "python3"
  },
  "language_info": {
   "codemirror_mode": {
    "name": "ipython",
    "version": 3
   },
   "file_extension": ".py",
   "mimetype": "text/x-python",
   "name": "python",
   "nbconvert_exporter": "python",
   "pygments_lexer": "ipython3",
   "version": "3.9.6"
  }
 },
 "nbformat": 4,
 "nbformat_minor": 2
}
